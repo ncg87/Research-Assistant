{
 "cells": [
  {
   "cell_type": "code",
   "execution_count": 1,
   "metadata": {},
   "outputs": [
    {
     "name": "stdout",
     "output_type": "stream",
     "text": [
      "Collecting rich\n",
      "  Downloading rich-13.9.4-py3-none-any.whl.metadata (18 kB)\n",
      "Collecting markdown-it-py>=2.2.0 (from rich)\n",
      "  Using cached markdown_it_py-3.0.0-py3-none-any.whl.metadata (6.9 kB)\n",
      "Requirement already satisfied: pygments<3.0.0,>=2.13.0 in c:\\users\\nicko\\appdata\\roaming\\python\\python312\\site-packages (from rich) (2.17.2)\n",
      "Collecting mdurl~=0.1 (from markdown-it-py>=2.2.0->rich)\n",
      "  Using cached mdurl-0.1.2-py3-none-any.whl.metadata (1.6 kB)\n",
      "Downloading rich-13.9.4-py3-none-any.whl (242 kB)\n",
      "Using cached markdown_it_py-3.0.0-py3-none-any.whl (87 kB)\n",
      "Using cached mdurl-0.1.2-py3-none-any.whl (10.0 kB)\n",
      "Installing collected packages: mdurl, markdown-it-py, rich\n",
      "Successfully installed markdown-it-py-3.0.0 mdurl-0.1.2 rich-13.9.4\n"
     ]
    }
   ],
   "source": [
    "!pip install rich\n"
   ]
  },
  {
   "cell_type": "code",
   "execution_count": 2,
   "metadata": {},
   "outputs": [
    {
     "name": "stderr",
     "output_type": "stream",
     "text": [
      "c:\\Users\\Nicko\\anaconda3\\envs\\futures\\Lib\\site-packages\\tqdm\\auto.py:21: TqdmWarning: IProgress not found. Please update jupyter and ipywidgets. See https://ipywidgets.readthedocs.io/en/stable/user_install.html\n",
      "  from .autonotebook import tqdm as notebook_tqdm\n"
     ]
    },
    {
     "data": {
      "text/html": [
       "<pre style=\"white-space:pre;overflow-x:auto;line-height:normal;font-family:Menlo,'DejaVu Sans Mono',consolas,'Courier New',monospace\"></pre>\n"
      ],
      "text/plain": []
     },
     "metadata": {},
     "output_type": "display_data"
    },
    {
     "data": {
      "text/html": [
       "<pre style=\"white-space:pre;overflow-x:auto;line-height:normal;font-family:Menlo,'DejaVu Sans Mono',consolas,'Courier New',monospace\"><span style=\"color: #000080; text-decoration-color: #000080; font-weight: bold\">╭─────────────────────────────────────────────────────────────────────────────────────────────────────────────────╮</span>\n",
       "<span style=\"color: #000080; text-decoration-color: #000080; font-weight: bold\">│                                                                                                                 │</span>\n",
       "<span style=\"color: #000080; text-decoration-color: #000080; font-weight: bold\">│ ╔══════════════════════════════════════════════════════════════╗                                                │</span>\n",
       "<span style=\"color: #000080; text-decoration-color: #000080; font-weight: bold\">│ ║                   Research Assistant v1.0                     ║                                               │</span>\n",
       "<span style=\"color: #000080; text-decoration-color: #000080; font-weight: bold\">│ ║----------------------------------------------------------  ║                                                  │</span>\n",
       "<span style=\"color: #000080; text-decoration-color: #000080; font-weight: bold\">│ ║  An AI-powered tool for academic research and exploration    ║                                                │</span>\n",
       "<span style=\"color: #000080; text-decoration-color: #000080; font-weight: bold\">│ ║  Using arXiv papers and Large Language Models                ║                                                │</span>\n",
       "<span style=\"color: #000080; text-decoration-color: #000080; font-weight: bold\">│ ╚══════════════════════════════════════════════════════════════╝                                                │</span>\n",
       "<span style=\"color: #000080; text-decoration-color: #000080; font-weight: bold\">│                                                                                                                 │</span>\n",
       "<span style=\"color: #000080; text-decoration-color: #000080; font-weight: bold\">╰─────────────────────────────────────────────────────────────────────────────────────────────────────────────────╯</span>\n",
       "</pre>\n"
      ],
      "text/plain": [
       "\u001b[1;34m╭─────────────────────────────────────────────────────────────────────────────────────────────────────────────────╮\u001b[0m\n",
       "\u001b[1;34m│\u001b[0m\u001b[1;34m \u001b[0m\u001b[1;34m                                                                                                               \u001b[0m\u001b[1;34m \u001b[0m\u001b[1;34m│\u001b[0m\n",
       "\u001b[1;34m│\u001b[0m\u001b[1;34m \u001b[0m\u001b[1;34m╔══════════════════════════════════════════════════════════════╗\u001b[0m\u001b[1;34m                                               \u001b[0m\u001b[1;34m \u001b[0m\u001b[1;34m│\u001b[0m\n",
       "\u001b[1;34m│\u001b[0m\u001b[1;34m \u001b[0m\u001b[1;34m║                   Research Assistant v1.0                     ║\u001b[0m\u001b[1;34m                                              \u001b[0m\u001b[1;34m \u001b[0m\u001b[1;34m│\u001b[0m\n",
       "\u001b[1;34m│\u001b[0m\u001b[1;34m \u001b[0m\u001b[1;34m║----------------------------------------------------------  ║\u001b[0m\u001b[1;34m                                                 \u001b[0m\u001b[1;34m \u001b[0m\u001b[1;34m│\u001b[0m\n",
       "\u001b[1;34m│\u001b[0m\u001b[1;34m \u001b[0m\u001b[1;34m║  An AI-powered tool for academic research and exploration    ║\u001b[0m\u001b[1;34m                                               \u001b[0m\u001b[1;34m \u001b[0m\u001b[1;34m│\u001b[0m\n",
       "\u001b[1;34m│\u001b[0m\u001b[1;34m \u001b[0m\u001b[1;34m║  Using arXiv papers and Large Language Models                ║\u001b[0m\u001b[1;34m                                               \u001b[0m\u001b[1;34m \u001b[0m\u001b[1;34m│\u001b[0m\n",
       "\u001b[1;34m│\u001b[0m\u001b[1;34m \u001b[0m\u001b[1;34m╚══════════════════════════════════════════════════════════════╝\u001b[0m\u001b[1;34m                                               \u001b[0m\u001b[1;34m \u001b[0m\u001b[1;34m│\u001b[0m\n",
       "\u001b[1;34m│\u001b[0m\u001b[1;34m \u001b[0m\u001b[1;34m        \u001b[0m\u001b[1;34m                                                                                                       \u001b[0m\u001b[1;34m \u001b[0m\u001b[1;34m│\u001b[0m\n",
       "\u001b[1;34m╰─────────────────────────────────────────────────────────────────────────────────────────────────────────────────╯\u001b[0m\n"
      ]
     },
     "metadata": {},
     "output_type": "display_data"
    },
    {
     "data": {
      "text/html": [
       "<pre style=\"white-space:pre;overflow-x:auto;line-height:normal;font-family:Menlo,'DejaVu Sans Mono',consolas,'Courier New',monospace\">\n",
       "\n",
       "<span style=\"color: #000080; text-decoration-color: #000080\">╭─────────────────────────────────────────────────── Main Menu ───────────────────────────────────────────────────╮</span>\n",
       "<span style=\"color: #000080; text-decoration-color: #000080\">│</span> ╭────────────────────────╮                                                                                      <span style=\"color: #000080; text-decoration-color: #000080\">│</span>\n",
       "<span style=\"color: #000080; text-decoration-color: #000080\">│</span> │ [1] Start New Research │                                                                                      <span style=\"color: #000080; text-decoration-color: #000080\">│</span>\n",
       "<span style=\"color: #000080; text-decoration-color: #000080\">│</span> │ [2] Settings           │                                                                                      <span style=\"color: #000080; text-decoration-color: #000080\">│</span>\n",
       "<span style=\"color: #000080; text-decoration-color: #000080\">│</span> │ [3] Exit               │                                                                                      <span style=\"color: #000080; text-decoration-color: #000080\">│</span>\n",
       "<span style=\"color: #000080; text-decoration-color: #000080\">│</span> ╰────────────────────────╯                                                                                      <span style=\"color: #000080; text-decoration-color: #000080\">│</span>\n",
       "<span style=\"color: #000080; text-decoration-color: #000080\">╰─────────────────────────────────────────────────────────────────────────────────────────────────────────────────╯</span>\n",
       "</pre>\n"
      ],
      "text/plain": [
       "\n",
       "\n",
       "\u001b[34m╭─\u001b[0m\u001b[34m──────────────────────────────────────────────────\u001b[0m\u001b[34m Main Menu \u001b[0m\u001b[34m──────────────────────────────────────────────────\u001b[0m\u001b[34m─╮\u001b[0m\n",
       "\u001b[34m│\u001b[0m ╭────────────────────────╮                                                                                      \u001b[34m│\u001b[0m\n",
       "\u001b[34m│\u001b[0m │ [1] Start New Research │                                                                                      \u001b[34m│\u001b[0m\n",
       "\u001b[34m│\u001b[0m │ [2] Settings           │                                                                                      \u001b[34m│\u001b[0m\n",
       "\u001b[34m│\u001b[0m │ [3] Exit               │                                                                                      \u001b[34m│\u001b[0m\n",
       "\u001b[34m│\u001b[0m ╰────────────────────────╯                                                                                      \u001b[34m│\u001b[0m\n",
       "\u001b[34m╰─────────────────────────────────────────────────────────────────────────────────────────────────────────────────╯\u001b[0m\n"
      ]
     },
     "metadata": {},
     "output_type": "display_data"
    },
    {
     "data": {
      "text/html": [
       "<pre style=\"white-space:pre;overflow-x:auto;line-height:normal;font-family:Menlo,'DejaVu Sans Mono',consolas,'Courier New',monospace\">Select an option <span style=\"color: #800080; text-decoration-color: #800080; font-weight: bold\">[1/2/3]</span>: </pre>\n"
      ],
      "text/plain": [
       "Select an option \u001b[1;35m[1/2/3]\u001b[0m: "
      ]
     },
     "metadata": {},
     "output_type": "display_data"
    },
    {
     "data": {
      "text/html": [
       "<pre style=\"white-space:pre;overflow-x:auto;line-height:normal;font-family:Menlo,'DejaVu Sans Mono',consolas,'Courier New',monospace\"><span style=\"color: #800000; text-decoration-color: #800000\">Please select one of the available options</span>\n",
       "</pre>\n"
      ],
      "text/plain": [
       "\u001b[31mPlease select one of the available options\u001b[0m\n"
      ]
     },
     "metadata": {},
     "output_type": "display_data"
    },
    {
     "data": {
      "text/html": [
       "<pre style=\"white-space:pre;overflow-x:auto;line-height:normal;font-family:Menlo,'DejaVu Sans Mono',consolas,'Courier New',monospace\">Select an option <span style=\"color: #800080; text-decoration-color: #800080; font-weight: bold\">[1/2/3]</span>: </pre>\n"
      ],
      "text/plain": [
       "Select an option \u001b[1;35m[1/2/3]\u001b[0m: "
      ]
     },
     "metadata": {},
     "output_type": "display_data"
    },
    {
     "data": {
      "text/html": [
       "<pre style=\"white-space:pre;overflow-x:auto;line-height:normal;font-family:Menlo,'DejaVu Sans Mono',consolas,'Courier New',monospace\">\n",
       "Thank you for using Research Assistant!\n",
       "</pre>\n"
      ],
      "text/plain": [
       "\n",
       "Thank you for using Research Assistant!\n"
      ]
     },
     "metadata": {},
     "output_type": "display_data"
    }
   ],
   "source": [
    "\n",
    "from interface import ResearchCLI\n",
    "\n",
    "cli = ResearchCLI()\n",
    "cli.run()"
   ]
  },
  {
   "cell_type": "code",
   "execution_count": null,
   "metadata": {},
   "outputs": [],
   "source": []
  }
 ],
 "metadata": {
  "kernelspec": {
   "display_name": "futures",
   "language": "python",
   "name": "python3"
  },
  "language_info": {
   "codemirror_mode": {
    "name": "ipython",
    "version": 3
   },
   "file_extension": ".py",
   "mimetype": "text/x-python",
   "name": "python",
   "nbconvert_exporter": "python",
   "pygments_lexer": "ipython3",
   "version": "3.12.7"
  }
 },
 "nbformat": 4,
 "nbformat_minor": 2
}
